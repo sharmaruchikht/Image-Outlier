{
 "cells": [
  {
   "cell_type": "code",
   "execution_count": null,
   "metadata": {
    "colab": {
     "base_uri": "https://localhost:8080/"
    },
    "id": "zqTdEA6HZpUd",
    "outputId": "6d23e3b3-18be-4cd9-bda8-27a937dfdb7f"
   },
   "outputs": [
    {
     "name": "stdout",
     "output_type": "stream",
     "text": [
      "Drive already mounted at /content/drive; to attempt to forcibly remount, call drive.mount(\"/content/drive\", force_remount=True).\n"
     ]
    }
   ],
   "source": [
    "from google.colab import drive\n",
    "drive.mount('/content/drive')"
   ]
  },
  {
   "cell_type": "code",
   "execution_count": null,
   "metadata": {
    "colab": {
     "base_uri": "https://localhost:8080/"
    },
    "id": "aYai35VcZ3Im",
    "outputId": "c489a5a3-ae58-4f69-b07f-46097e1152c0",
    "scrolled": true
   },
   "outputs": [
    {
     "name": "stdout",
     "output_type": "stream",
     "text": [
      "Looking in indexes: https://pypi.org/simple, https://us-python.pkg.dev/colab-wheels/public/simple/\n",
      "Collecting alibi-detect\n",
      "  Downloading alibi_detect-0.11.0-py3-none-any.whl (337 kB)\n",
      "\u001b[2K     \u001b[90m━━━━━━━━━━━━━━━━━━━━━━━━━━━━━━━━━━━━━━\u001b[0m \u001b[32m337.9/337.9 KB\u001b[0m \u001b[31m28.1 MB/s\u001b[0m eta \u001b[36m0:00:00\u001b[0m\n",
      "\u001b[?25hRequirement already satisfied: matplotlib<4.0.0,>=3.0.0 in /usr/local/lib/python3.8/dist-packages (from alibi-detect) (3.2.2)\n",
      "Requirement already satisfied: Pillow<10.0.0,>=5.4.1 in /usr/local/lib/python3.8/dist-packages (from alibi-detect) (7.1.2)\n",
      "Collecting transformers<5.0.0,>=4.0.0\n",
      "  Downloading transformers-4.26.1-py3-none-any.whl (6.3 MB)\n",
      "\u001b[2K     \u001b[90m━━━━━━━━━━━━━━━━━━━━━━━━━━━━━━━━━━━━━━━━\u001b[0m \u001b[32m6.3/6.3 MB\u001b[0m \u001b[31m109.6 MB/s\u001b[0m eta \u001b[36m0:00:00\u001b[0m\n",
      "\u001b[?25hRequirement already satisfied: pandas<2.0.0,>=0.23.3 in /usr/local/lib/python3.8/dist-packages (from alibi-detect) (1.3.5)\n",
      "Requirement already satisfied: numpy<2.0.0,>=1.16.2 in /usr/local/lib/python3.8/dist-packages (from alibi-detect) (1.22.4)\n",
      "Requirement already satisfied: tqdm<5.0.0,>=4.28.1 in /usr/local/lib/python3.8/dist-packages (from alibi-detect) (4.64.1)\n",
      "Requirement already satisfied: requests<3.0.0,>=2.21.0 in /usr/local/lib/python3.8/dist-packages (from alibi-detect) (2.25.1)\n",
      "Requirement already satisfied: toml<1.0.0,>=0.10.1 in /usr/local/lib/python3.8/dist-packages (from alibi-detect) (0.10.2)\n",
      "Requirement already satisfied: scikit-learn<2.0.0,>=0.20.2 in /usr/local/lib/python3.8/dist-packages (from alibi-detect) (1.0.2)\n",
      "Requirement already satisfied: scipy<2.0.0,>=1.3.0 in /usr/local/lib/python3.8/dist-packages (from alibi-detect) (1.7.3)\n",
      "Requirement already satisfied: pydantic<2.0.0,>=1.8.0 in /usr/local/lib/python3.8/dist-packages (from alibi-detect) (1.10.5)\n",
      "Requirement already satisfied: catalogue<3.0.0,>=2.0.0 in /usr/local/lib/python3.8/dist-packages (from alibi-detect) (2.0.8)\n",
      "Requirement already satisfied: opencv-python<5.0.0,>=3.2.0 in /usr/local/lib/python3.8/dist-packages (from alibi-detect) (4.6.0.66)\n",
      "Requirement already satisfied: numba!=0.54.0,<0.57.0,>=0.50.0 in /usr/local/lib/python3.8/dist-packages (from alibi-detect) (0.56.4)\n",
      "Requirement already satisfied: dill<0.4.0,>=0.3.0 in /usr/local/lib/python3.8/dist-packages (from alibi-detect) (0.3.6)\n",
      "Requirement already satisfied: scikit-image!=0.17.1,<0.20,>=0.14.2 in /usr/local/lib/python3.8/dist-packages (from alibi-detect) (0.18.3)\n",
      "Requirement already satisfied: typing-extensions>=3.7.4.3 in /usr/local/lib/python3.8/dist-packages (from alibi-detect) (4.5.0)\n",
      "Requirement already satisfied: python-dateutil>=2.1 in /usr/local/lib/python3.8/dist-packages (from matplotlib<4.0.0,>=3.0.0->alibi-detect) (2.8.2)\n",
      "Requirement already satisfied: kiwisolver>=1.0.1 in /usr/local/lib/python3.8/dist-packages (from matplotlib<4.0.0,>=3.0.0->alibi-detect) (1.4.4)\n",
      "Requirement already satisfied: pyparsing!=2.0.4,!=2.1.2,!=2.1.6,>=2.0.1 in /usr/local/lib/python3.8/dist-packages (from matplotlib<4.0.0,>=3.0.0->alibi-detect) (3.0.9)\n",
      "Requirement already satisfied: cycler>=0.10 in /usr/local/lib/python3.8/dist-packages (from matplotlib<4.0.0,>=3.0.0->alibi-detect) (0.11.0)\n",
      "Requirement already satisfied: importlib-metadata in /usr/local/lib/python3.8/dist-packages (from numba!=0.54.0,<0.57.0,>=0.50.0->alibi-detect) (6.0.0)\n",
      "Requirement already satisfied: llvmlite<0.40,>=0.39.0dev0 in /usr/local/lib/python3.8/dist-packages (from numba!=0.54.0,<0.57.0,>=0.50.0->alibi-detect) (0.39.1)\n",
      "Requirement already satisfied: setuptools in /usr/local/lib/python3.8/dist-packages (from numba!=0.54.0,<0.57.0,>=0.50.0->alibi-detect) (57.4.0)\n",
      "Requirement already satisfied: pytz>=2017.3 in /usr/local/lib/python3.8/dist-packages (from pandas<2.0.0,>=0.23.3->alibi-detect) (2022.7.1)\n",
      "Requirement already satisfied: urllib3<1.27,>=1.21.1 in /usr/local/lib/python3.8/dist-packages (from requests<3.0.0,>=2.21.0->alibi-detect) (1.24.3)\n",
      "Requirement already satisfied: idna<3,>=2.5 in /usr/local/lib/python3.8/dist-packages (from requests<3.0.0,>=2.21.0->alibi-detect) (2.10)\n",
      "Requirement already satisfied: chardet<5,>=3.0.2 in /usr/local/lib/python3.8/dist-packages (from requests<3.0.0,>=2.21.0->alibi-detect) (4.0.0)\n",
      "Requirement already satisfied: certifi>=2017.4.17 in /usr/local/lib/python3.8/dist-packages (from requests<3.0.0,>=2.21.0->alibi-detect) (2022.12.7)\n",
      "Requirement already satisfied: networkx>=2.0 in /usr/local/lib/python3.8/dist-packages (from scikit-image!=0.17.1,<0.20,>=0.14.2->alibi-detect) (3.0)\n",
      "Requirement already satisfied: tifffile>=2019.7.26 in /usr/local/lib/python3.8/dist-packages (from scikit-image!=0.17.1,<0.20,>=0.14.2->alibi-detect) (2023.2.3)\n",
      "Requirement already satisfied: imageio>=2.3.0 in /usr/local/lib/python3.8/dist-packages (from scikit-image!=0.17.1,<0.20,>=0.14.2->alibi-detect) (2.9.0)\n",
      "Requirement already satisfied: PyWavelets>=1.1.1 in /usr/local/lib/python3.8/dist-packages (from scikit-image!=0.17.1,<0.20,>=0.14.2->alibi-detect) (1.4.1)\n",
      "Requirement already satisfied: threadpoolctl>=2.0.0 in /usr/local/lib/python3.8/dist-packages (from scikit-learn<2.0.0,>=0.20.2->alibi-detect) (3.1.0)\n",
      "Requirement already satisfied: joblib>=0.11 in /usr/local/lib/python3.8/dist-packages (from scikit-learn<2.0.0,>=0.20.2->alibi-detect) (1.2.0)\n",
      "Requirement already satisfied: packaging>=20.0 in /usr/local/lib/python3.8/dist-packages (from transformers<5.0.0,>=4.0.0->alibi-detect) (23.0)\n",
      "Requirement already satisfied: regex!=2019.12.17 in /usr/local/lib/python3.8/dist-packages (from transformers<5.0.0,>=4.0.0->alibi-detect) (2022.6.2)\n",
      "Collecting tokenizers!=0.11.3,<0.14,>=0.11.1\n",
      "  Downloading tokenizers-0.13.2-cp38-cp38-manylinux_2_17_x86_64.manylinux2014_x86_64.whl (7.6 MB)\n",
      "\u001b[2K     \u001b[90m━━━━━━━━━━━━━━━━━━━━━━━━━━━━━━━━━━━━━━━━\u001b[0m \u001b[32m7.6/7.6 MB\u001b[0m \u001b[31m70.7 MB/s\u001b[0m eta \u001b[36m0:00:00\u001b[0m\n",
      "\u001b[?25hRequirement already satisfied: filelock in /usr/local/lib/python3.8/dist-packages (from transformers<5.0.0,>=4.0.0->alibi-detect) (3.9.0)\n",
      "Requirement already satisfied: pyyaml>=5.1 in /usr/local/lib/python3.8/dist-packages (from transformers<5.0.0,>=4.0.0->alibi-detect) (6.0)\n",
      "Collecting huggingface-hub<1.0,>=0.11.0\n",
      "  Downloading huggingface_hub-0.12.1-py3-none-any.whl (190 kB)\n",
      "\u001b[2K     \u001b[90m━━━━━━━━━━━━━━━━━━━━━━━━━━━━━━━━━━━━━━\u001b[0m \u001b[32m190.3/190.3 KB\u001b[0m \u001b[31m19.1 MB/s\u001b[0m eta \u001b[36m0:00:00\u001b[0m\n",
      "\u001b[?25hRequirement already satisfied: six>=1.5 in /usr/local/lib/python3.8/dist-packages (from python-dateutil>=2.1->matplotlib<4.0.0,>=3.0.0->alibi-detect) (1.15.0)\n",
      "Requirement already satisfied: zipp>=0.5 in /usr/local/lib/python3.8/dist-packages (from importlib-metadata->numba!=0.54.0,<0.57.0,>=0.50.0->alibi-detect) (3.13.0)\n",
      "Installing collected packages: tokenizers, huggingface-hub, transformers, alibi-detect\n",
      "Successfully installed alibi-detect-0.11.0 huggingface-hub-0.12.1 tokenizers-0.13.2 transformers-4.26.1\n"
     ]
    }
   ],
   "source": [
    "pip install alibi-detect"
   ]
  },
  {
   "cell_type": "code",
   "execution_count": null,
   "metadata": {
    "id": "TODcpQDzZic1"
   },
   "outputs": [],
   "source": [
    "import os\n",
    "import logging\n",
    "import matplotlib.pyplot as plt\n",
    "import numpy as np\n",
    "import cv2\n",
    "from PIL import Image\n",
    "\n",
    "import tensorflow as tf\n",
    "tf.keras.backend.clear_session()\n",
    "from tensorflow.keras.layers import Conv2D, Conv2DTranspose, Dense, Layer, Reshape, InputLayer\n",
    "from tqdm import tqdm"
   ]
  },
  {
   "cell_type": "code",
   "execution_count": null,
   "metadata": {
    "id": "zb9bMiYiZqVQ"
   },
   "outputs": [],
   "source": [
    "from alibi_detect.models.tensorflow import elbo\n",
    "from alibi_detect.od import OutlierVAE\n",
    "from alibi_detect.utils.fetching import fetch_detector\n",
    "from alibi_detect.utils.perturbation import apply_mask\n",
    "from alibi_detect.saving import save_detector, load_detector\n",
    "from alibi_detect.utils.visualize import plot_instance_score, plot_feature_outlier_image"
   ]
  },
  {
   "cell_type": "code",
   "execution_count": null,
   "metadata": {
    "id": "q1SzgyWzaEX7"
   },
   "outputs": [],
   "source": [
    "image_directory = '/content/drive/MyDrive/Outlier Detection/data/train/'\n",
    "SIZE = 64\n",
    "dataset = []"
   ]
  },
  {
   "cell_type": "code",
   "execution_count": null,
   "metadata": {
    "id": "gfRrMvqoaEgg"
   },
   "outputs": [],
   "source": [
    "from sklearn.model_selection import train_test_split\n",
    "import os\n",
    "\n",
    "classes = os.listdir(image_directory)\n",
    "train_data = []\n",
    "train_labels = []\n",
    "\n",
    "for class_name in classes:\n",
    "    class_path = os.path.join(image_directory, class_name)\n",
    "    images = os.listdir(class_path)\n",
    "    for i, image_name in enumerate(images):\n",
    "        if (image_name.split('.')[1] == 'jpg'):\n",
    "            image_path = os.path.join(class_path, image_name)\n",
    "            image = cv2.imread(image_path)\n",
    "            image = Image.fromarray(image, 'RGB')\n",
    "            image = image.resize((SIZE, SIZE))\n",
    "            train_data.append(np.array(image))\n",
    "            train_labels.append(class_name)\n",
    "\n",
    "train_data = np.array(train_data)\n",
    "train_labels = np.array(train_labels)"
   ]
  },
  {
   "cell_type": "code",
   "execution_count": null,
   "metadata": {
    "colab": {
     "base_uri": "https://localhost:8080/"
    },
    "id": "mu1VQC8MaEnf",
    "outputId": "0e026c86-a8d1-4074-836d-5b4e7fcdb4b8"
   },
   "outputs": [
    {
     "data": {
      "text/plain": [
       "(2178, 12288)"
      ]
     },
     "execution_count": 7,
     "metadata": {},
     "output_type": "execute_result"
    }
   ],
   "source": [
    "nsamples, nx, ny, nz = train_data.shape\n",
    "train_data = train_data.reshape((nsamples, nx*ny*nz))\n",
    "train_data.shape"
   ]
  },
  {
   "cell_type": "markdown",
   "metadata": {},
   "source": [
    "### SMOTE Oversampling"
   ]
  },
  {
   "cell_type": "code",
   "execution_count": null,
   "metadata": {
    "colab": {
     "base_uri": "https://localhost:8080/"
    },
    "id": "q5CLsZUyaEuH",
    "outputId": "f5cf88a2-dbcd-4e87-ed3d-d4f8c0518ada"
   },
   "outputs": [
    {
     "name": "stdout",
     "output_type": "stream",
     "text": [
      "(2324, 64, 64, 3)\n",
      "(2324,)\n"
     ]
    }
   ],
   "source": [
    "from imblearn.over_sampling import SMOTE\n",
    "from tensorflow.keras.preprocessing.image import ImageDataGenerator\n",
    "\n",
    "# Define the SMOTE oversampling object\n",
    "smote = SMOTE(sampling_strategy='minority')\n",
    "\n",
    "# Apply SMOTE to the training dataset\n",
    "X_train_oversampled, y_train_oversampled = smote.fit_resample(train_data, train_labels)\n",
    "\n",
    "X_train_oversampled = X_train_oversampled.reshape(-1, nx, ny, nz)\n",
    "print(X_train_oversampled.shape)\n",
    "\n",
    "y_train_oversampled = y_train_oversampled.reshape(-1,)\n",
    "print(y_train_oversampled.shape)"
   ]
  },
  {
   "cell_type": "code",
   "execution_count": null,
   "metadata": {
    "id": "c0--vrrYewUX"
   },
   "outputs": [],
   "source": [
    "X_train_oversampled = X_train_oversampled.astype('float32') / 255."
   ]
  },
  {
   "cell_type": "markdown",
   "metadata": {},
   "source": [
    "### Data Augmentation"
   ]
  },
  {
   "cell_type": "code",
   "execution_count": null,
   "metadata": {
    "id": "hJvvK-qJjJ5s"
   },
   "outputs": [],
   "source": [
    "# Define the Keras data generator for data augmentation\n",
    "datagen = ImageDataGenerator(\n",
    "    rotation_range=10,\n",
    "    zoom_range=0.1,\n",
    "    width_shift_range=0.1,\n",
    "    height_shift_range=0.1,\n",
    "    shear_range=0.1,\n",
    "    horizontal_flip=True,\n",
    "    vertical_flip=False,\n",
    "    fill_mode='nearest'\n",
    ")\n",
    "\n",
    "# Fit the data generator to the oversampled training set\n",
    "datagen.fit(X_train_oversampled)"
   ]
  },
  {
   "cell_type": "code",
   "execution_count": null,
   "metadata": {
    "id": "KSQ7_i49jJ-R"
   },
   "outputs": [],
   "source": [
    "# Generate augmented data and concatenate with the oversampled training set\n",
    "batch_size = 32\n",
    "num_augmented = 100  # Number of augmented images to generate\n",
    "augmented_data = datagen.flow(X_train_oversampled, y_train_oversampled, batch_size=batch_size)\n",
    "augmented_images = []\n",
    "augmented_labels = []\n",
    "for i in range(num_augmented // batch_size):\n",
    "    x_batch, y_batch = next(augmented_data)\n",
    "    augmented_images.append(x_batch)\n",
    "    augmented_labels.append(y_batch)\n",
    "augmented_images = np.concatenate(augmented_images, axis=0)\n",
    "augmented_labels = np.concatenate(augmented_labels, axis=0)"
   ]
  },
  {
   "cell_type": "code",
   "execution_count": null,
   "metadata": {
    "id": "3u5wXGDnjKD9"
   },
   "outputs": [],
   "source": [
    "# Combine the augmented data with the oversampled training set\n",
    "X_train_augmented = np.concatenate([X_train_oversampled, augmented_images], axis=0)\n",
    "y_train_augmented = np.concatenate([y_train_oversampled, augmented_labels], axis=0)"
   ]
  },
  {
   "cell_type": "code",
   "execution_count": null,
   "metadata": {
    "colab": {
     "base_uri": "https://localhost:8080/"
    },
    "id": "g4Fj6loljKIt",
    "outputId": "2e94a429-a697-4483-9da1-7dbca8e127d1"
   },
   "outputs": [
    {
     "data": {
      "text/plain": [
       "((2420, 64, 64, 3), (2420,))"
      ]
     },
     "execution_count": 13,
     "metadata": {},
     "output_type": "execute_result"
    }
   ],
   "source": [
    "X_train_augmented.shape, y_train_augmented.shape"
   ]
  },
  {
   "cell_type": "markdown",
   "metadata": {},
   "source": [
    "### Load or define outlier detector"
   ]
  },
  {
   "cell_type": "code",
   "execution_count": null,
   "metadata": {
    "colab": {
     "base_uri": "https://localhost:8080/"
    },
    "id": "Gyc1B4XNe4om",
    "outputId": "a679cc24-f952-49c5-9dcb-312afa6ae058"
   },
   "outputs": [
    {
     "name": "stdout",
     "output_type": "stream",
     "text": [
      "Model: \"sequential\"\n",
      "_________________________________________________________________\n",
      " Layer (type)                Output Shape              Param #   \n",
      "=================================================================\n",
      " conv2d (Conv2D)             (None, 32, 32, 64)        3136      \n",
      "                                                                 \n",
      " conv2d_1 (Conv2D)           (None, 16, 16, 128)       131200    \n",
      "                                                                 \n",
      " conv2d_2 (Conv2D)           (None, 8, 8, 512)         1049088   \n",
      "                                                                 \n",
      "=================================================================\n",
      "Total params: 1,183,424\n",
      "Trainable params: 1,183,424\n",
      "Non-trainable params: 0\n",
      "_________________________________________________________________\n",
      "None\n"
     ]
    }
   ],
   "source": [
    "latent_dim = 1024\n",
    "\n",
    "encoder_net = tf.keras.Sequential(\n",
    "      [\n",
    "          InputLayer(input_shape=(64, 64, 3)),\n",
    "          Conv2D(64, 4, strides=2, padding='same', activation=tf.nn.relu),\n",
    "          Conv2D(128, 4, strides=2, padding='same', activation=tf.nn.relu),\n",
    "          Conv2D(512, 4, strides=2, padding='same', activation=tf.nn.relu)\n",
    "      ])\n",
    "print(encoder_net.summary())"
   ]
  },
  {
   "cell_type": "code",
   "execution_count": null,
   "metadata": {
    "id": "6T3mJWgfe8Jw"
   },
   "outputs": [],
   "source": [
    "dense_dim = [8, 8, 512] #Dimension of the last conv. output. This is used to work our way back in the decoder. "
   ]
  },
  {
   "cell_type": "code",
   "execution_count": null,
   "metadata": {
    "id": "xGQehapxe8sj"
   },
   "outputs": [],
   "source": [
    "decoder_net = tf.keras.Sequential(\n",
    "      [\n",
    "          InputLayer(input_shape=(latent_dim,)),\n",
    "          Dense(np.prod(dense_dim)),\n",
    "          Reshape(target_shape=dense_dim),\n",
    "          Conv2DTranspose(256, 4, strides=2, padding='same', activation=tf.nn.relu),\n",
    "          Conv2DTranspose(64, 4, strides=2, padding='same', activation=tf.nn.relu),\n",
    "          Conv2DTranspose(3, 4, strides=2, padding='same', activation='sigmoid')\n",
    "      ])"
   ]
  },
  {
   "cell_type": "code",
   "execution_count": null,
   "metadata": {
    "colab": {
     "base_uri": "https://localhost:8080/"
    },
    "id": "jGNMaVhOe-lO",
    "outputId": "5dc86d53-7d77-4097-c1da-3458dc1328b5"
   },
   "outputs": [
    {
     "name": "stderr",
     "output_type": "stream",
     "text": [
      "WARNING:alibi_detect.od.vae:No threshold level set. Need to infer threshold using `infer_threshold`.\n"
     ]
    }
   ],
   "source": [
    "od = OutlierVAE(threshold=0.20,  # threshold for outlier score\n",
    "                score_type='mse',  # use MSE of reconstruction error for outlier detection\n",
    "                encoder_net=encoder_net,  # can also pass VAE model instead\n",
    "                decoder_net=decoder_net,  # of separate encoder and decoder\n",
    "                latent_dim=latent_dim,\n",
    "                samples=2)"
   ]
  },
  {
   "cell_type": "code",
   "execution_count": null,
   "metadata": {
    "id": "oOn2WWU2fBMx"
   },
   "outputs": [],
   "source": [
    "od.fit(X_train_oversampled,\n",
    "       loss_fn=elbo,\n",
    "       cov_elbo=dict(sim=.05),\n",
    "       epochs=25,\n",
    "       verbose=False)"
   ]
  },
  {
   "cell_type": "code",
   "execution_count": null,
   "metadata": {
    "colab": {
     "base_uri": "https://localhost:8080/"
    },
    "id": "6COcO8wZquGl",
    "outputId": "c843585f-be07-4977-f8c2-e15b39751c81"
   },
   "outputs": [
    {
     "name": "stderr",
     "output_type": "stream",
     "text": [
      "WARNING:alibi_detect.saving.saving:Directory /content/drive/MyDrive/Outlier Detection/data/thresh_10 does not exist and is now created.\n",
      "WARNING:alibi_detect.saving._tensorflow.saving:Directory /content/drive/MyDrive/Outlier Detection/data/thresh_10/model does not exist and is now created.\n",
      "WARNING:tensorflow:Compiled the loaded model, but the compiled metrics have yet to be built. `model.compile_metrics` will be empty until you train or evaluate the model.\n",
      "WARNING:tensorflow:Compiled the loaded model, but the compiled metrics have yet to be built. `model.compile_metrics` will be empty until you train or evaluate the model.\n"
     ]
    },
    {
     "name": "stdout",
     "output_type": "stream",
     "text": [
      "Current threshold value is:  0.1\n"
     ]
    }
   ],
   "source": [
    "from alibi_detect.saving import save_detector, load_detector\n",
    "\n",
    "# save the trained outlier detector\n",
    "save_detector(od, \"/content/drive/MyDrive/Outlier Detection/data/thresh_10/\")\n",
    "#print(\"Current threshold value is: \", od.threshold)"
   ]
  },
  {
   "cell_type": "markdown",
   "metadata": {
    "id": "-7WNhnDBML1f"
   },
   "source": [
    "### Evaluate on test data"
   ]
  },
  {
   "cell_type": "code",
   "execution_count": null,
   "metadata": {
    "colab": {
     "base_uri": "https://localhost:8080/"
    },
    "id": "mdNreOL5uOp5",
    "outputId": "ac33f2fa-92ea-4902-ab29-4859d0248f07"
   },
   "outputs": [
    {
     "name": "stderr",
     "output_type": "stream",
     "text": [
      "WARNING:tensorflow:No training configuration found in the save file, so the model was *not* compiled. Compile it manually.\n",
      "WARNING:tensorflow:No training configuration found in the save file, so the model was *not* compiled. Compile it manually.\n"
     ]
    }
   ],
   "source": [
    "# load the saved model\n",
    "od = load_detector(\"/content/drive/MyDrive/Outlier Detection/data/thresh_10\")"
   ]
  },
  {
   "cell_type": "code",
   "execution_count": null,
   "metadata": {
    "colab": {
     "base_uri": "https://localhost:8080/"
    },
    "id": "LBsrSqXxC7HM",
    "outputId": "07391ada-1e15-469d-cfb0-c92aca38d0fd"
   },
   "outputs": [
    {
     "data": {
      "text/plain": [
       "0.1"
      ]
     },
     "execution_count": 8,
     "metadata": {},
     "output_type": "execute_result"
    }
   ],
   "source": [
    "od.threshold"
   ]
  },
  {
   "cell_type": "code",
   "execution_count": null,
   "metadata": {
    "colab": {
     "base_uri": "https://localhost:8080/",
     "height": 423
    },
    "id": "zoCtVItMnKmX",
    "outputId": "dec8bc61-f01b-432e-81a1-7d1acd413d1a"
   },
   "outputs": [
    {
     "data": {
      "text/html": [
       "\n",
       "  <div id=\"df-0218d92c-9878-4bc3-a5bf-405b0c5d0444\">\n",
       "    <div class=\"colab-df-container\">\n",
       "      <div>\n",
       "<style scoped>\n",
       "    .dataframe tbody tr th:only-of-type {\n",
       "        vertical-align: middle;\n",
       "    }\n",
       "\n",
       "    .dataframe tbody tr th {\n",
       "        vertical-align: top;\n",
       "    }\n",
       "\n",
       "    .dataframe thead th {\n",
       "        text-align: right;\n",
       "    }\n",
       "</style>\n",
       "<table border=\"1\" class=\"dataframe\">\n",
       "  <thead>\n",
       "    <tr style=\"text-align: right;\">\n",
       "      <th></th>\n",
       "      <th>filename</th>\n",
       "      <th>Outlier Score</th>\n",
       "      <th>Is Outlier</th>\n",
       "    </tr>\n",
       "  </thead>\n",
       "  <tbody>\n",
       "    <tr>\n",
       "      <th>0</th>\n",
       "      <td>199773781.jpg</td>\n",
       "      <td>0.032362</td>\n",
       "      <td>0</td>\n",
       "    </tr>\n",
       "    <tr>\n",
       "      <th>1</th>\n",
       "      <td>183330277.jpg</td>\n",
       "      <td>0.048528</td>\n",
       "      <td>0</td>\n",
       "    </tr>\n",
       "    <tr>\n",
       "      <th>2</th>\n",
       "      <td>183331658.jpg</td>\n",
       "      <td>0.057214</td>\n",
       "      <td>0</td>\n",
       "    </tr>\n",
       "    <tr>\n",
       "      <th>3</th>\n",
       "      <td>183330274.jpg</td>\n",
       "      <td>0.049467</td>\n",
       "      <td>0</td>\n",
       "    </tr>\n",
       "    <tr>\n",
       "      <th>4</th>\n",
       "      <td>199773955.jpg</td>\n",
       "      <td>0.032371</td>\n",
       "      <td>0</td>\n",
       "    </tr>\n",
       "    <tr>\n",
       "      <th>...</th>\n",
       "      <td>...</td>\n",
       "      <td>...</td>\n",
       "      <td>...</td>\n",
       "    </tr>\n",
       "    <tr>\n",
       "      <th>2173</th>\n",
       "      <td>198671169.jpg</td>\n",
       "      <td>0.053198</td>\n",
       "      <td>0</td>\n",
       "    </tr>\n",
       "    <tr>\n",
       "      <th>2174</th>\n",
       "      <td>224749368.jpg</td>\n",
       "      <td>0.053904</td>\n",
       "      <td>0</td>\n",
       "    </tr>\n",
       "    <tr>\n",
       "      <th>2175</th>\n",
       "      <td>224755455.jpg</td>\n",
       "      <td>0.022977</td>\n",
       "      <td>0</td>\n",
       "    </tr>\n",
       "    <tr>\n",
       "      <th>2176</th>\n",
       "      <td>224754767.jpg</td>\n",
       "      <td>0.022994</td>\n",
       "      <td>0</td>\n",
       "    </tr>\n",
       "    <tr>\n",
       "      <th>2177</th>\n",
       "      <td>224742586.jpg</td>\n",
       "      <td>0.067699</td>\n",
       "      <td>0</td>\n",
       "    </tr>\n",
       "  </tbody>\n",
       "</table>\n",
       "<p>2178 rows × 3 columns</p>\n",
       "</div>\n",
       "      <button class=\"colab-df-convert\" onclick=\"convertToInteractive('df-0218d92c-9878-4bc3-a5bf-405b0c5d0444')\"\n",
       "              title=\"Convert this dataframe to an interactive table.\"\n",
       "              style=\"display:none;\">\n",
       "        \n",
       "  <svg xmlns=\"http://www.w3.org/2000/svg\" height=\"24px\"viewBox=\"0 0 24 24\"\n",
       "       width=\"24px\">\n",
       "    <path d=\"M0 0h24v24H0V0z\" fill=\"none\"/>\n",
       "    <path d=\"M18.56 5.44l.94 2.06.94-2.06 2.06-.94-2.06-.94-.94-2.06-.94 2.06-2.06.94zm-11 1L8.5 8.5l.94-2.06 2.06-.94-2.06-.94L8.5 2.5l-.94 2.06-2.06.94zm10 10l.94 2.06.94-2.06 2.06-.94-2.06-.94-.94-2.06-.94 2.06-2.06.94z\"/><path d=\"M17.41 7.96l-1.37-1.37c-.4-.4-.92-.59-1.43-.59-.52 0-1.04.2-1.43.59L10.3 9.45l-7.72 7.72c-.78.78-.78 2.05 0 2.83L4 21.41c.39.39.9.59 1.41.59.51 0 1.02-.2 1.41-.59l7.78-7.78 2.81-2.81c.8-.78.8-2.07 0-2.86zM5.41 20L4 18.59l7.72-7.72 1.47 1.35L5.41 20z\"/>\n",
       "  </svg>\n",
       "      </button>\n",
       "      \n",
       "  <style>\n",
       "    .colab-df-container {\n",
       "      display:flex;\n",
       "      flex-wrap:wrap;\n",
       "      gap: 12px;\n",
       "    }\n",
       "\n",
       "    .colab-df-convert {\n",
       "      background-color: #E8F0FE;\n",
       "      border: none;\n",
       "      border-radius: 50%;\n",
       "      cursor: pointer;\n",
       "      display: none;\n",
       "      fill: #1967D2;\n",
       "      height: 32px;\n",
       "      padding: 0 0 0 0;\n",
       "      width: 32px;\n",
       "    }\n",
       "\n",
       "    .colab-df-convert:hover {\n",
       "      background-color: #E2EBFA;\n",
       "      box-shadow: 0px 1px 2px rgba(60, 64, 67, 0.3), 0px 1px 3px 1px rgba(60, 64, 67, 0.15);\n",
       "      fill: #174EA6;\n",
       "    }\n",
       "\n",
       "    [theme=dark] .colab-df-convert {\n",
       "      background-color: #3B4455;\n",
       "      fill: #D2E3FC;\n",
       "    }\n",
       "\n",
       "    [theme=dark] .colab-df-convert:hover {\n",
       "      background-color: #434B5C;\n",
       "      box-shadow: 0px 1px 3px 1px rgba(0, 0, 0, 0.15);\n",
       "      filter: drop-shadow(0px 1px 2px rgba(0, 0, 0, 0.3));\n",
       "      fill: #FFFFFF;\n",
       "    }\n",
       "  </style>\n",
       "\n",
       "      <script>\n",
       "        const buttonEl =\n",
       "          document.querySelector('#df-0218d92c-9878-4bc3-a5bf-405b0c5d0444 button.colab-df-convert');\n",
       "        buttonEl.style.display =\n",
       "          google.colab.kernel.accessAllowed ? 'block' : 'none';\n",
       "\n",
       "        async function convertToInteractive(key) {\n",
       "          const element = document.querySelector('#df-0218d92c-9878-4bc3-a5bf-405b0c5d0444');\n",
       "          const dataTable =\n",
       "            await google.colab.kernel.invokeFunction('convertToInteractive',\n",
       "                                                     [key], {});\n",
       "          if (!dataTable) return;\n",
       "\n",
       "          const docLinkHtml = 'Like what you see? Visit the ' +\n",
       "            '<a target=\"_blank\" href=https://colab.research.google.com/notebooks/data_table.ipynb>data table notebook</a>'\n",
       "            + ' to learn more about interactive tables.';\n",
       "          element.innerHTML = '';\n",
       "          dataTable['output_type'] = 'display_data';\n",
       "          await google.colab.output.renderOutput(dataTable, element);\n",
       "          const docLink = document.createElement('div');\n",
       "          docLink.innerHTML = docLinkHtml;\n",
       "          element.appendChild(docLink);\n",
       "        }\n",
       "      </script>\n",
       "    </div>\n",
       "  </div>\n",
       "  "
      ],
      "text/plain": [
       "           filename  Outlier Score Is Outlier\n",
       "0     199773781.jpg       0.032362          0\n",
       "1     183330277.jpg       0.048528          0\n",
       "2     183331658.jpg       0.057214          0\n",
       "3     183330274.jpg       0.049467          0\n",
       "4     199773955.jpg       0.032371          0\n",
       "...             ...            ...        ...\n",
       "2173  198671169.jpg       0.053198          0\n",
       "2174  224749368.jpg       0.053904          0\n",
       "2175  224755455.jpg       0.022977          0\n",
       "2176  224754767.jpg       0.022994          0\n",
       "2177  224742586.jpg       0.067699          0\n",
       "\n",
       "[2178 rows x 3 columns]"
      ]
     },
     "execution_count": 9,
     "metadata": {},
     "output_type": "execute_result"
    }
   ],
   "source": [
    "from alibi_detect.saving import save_detector, load_detector\n",
    "import pandas as pd\n",
    "import cv2\n",
    "import numpy as np\n",
    "import os\n",
    "import warnings\n",
    "warnings.filterwarnings('ignore')\n",
    "\n",
    "# create an empty dataframe to store the results\n",
    "results_df = pd.DataFrame(columns=['filename', 'Outlier Score', 'Is Outlier'])\n",
    "\n",
    "test_dir = '/content/drive/MyDrive/Outlier Detection/data/test/'\n",
    "\n",
    "# List all class folders in the data directory\n",
    "class_folders = [os.path.join(test_dir, folder) for folder in os.listdir(test_dir)]\n",
    "\n",
    "# preprocess the images and make predictions\n",
    "for folder in class_folders:\n",
    "    for img in os.listdir(folder):\n",
    "        if (img.split('.')[1] == 'jpg'):\n",
    "            image = cv2.imread(os.path.join(folder, img))\n",
    "            image = cv2.resize(image, (64,64))\n",
    "            image = image / 255.\n",
    "            image = np.expand_dims(image, axis=0)\n",
    "            predictions = od.predict(image)\n",
    "    \n",
    "            fscore, iscore = od.score(image, outlier_perc=5, batch_size=16)\n",
    "            # print(\"Image:\", img)\n",
    "            # print(\"Outlier score:\", iscore[0])\n",
    "            # print(\"Is this image an outlier (0 for NO and 1 for YES)?\", int(iscore[0] >= od.threshold))\n",
    "        \n",
    "            # add the results to the dataframe\n",
    "            results_df = results_df.append({'filename': img, 'Outlier Score': iscore[0], 'Is Outlier': int(iscore[0] >= od.threshold)}, ignore_index=True)\n",
    "results_df"
   ]
  },
  {
   "cell_type": "code",
   "execution_count": null,
   "metadata": {
    "colab": {
     "base_uri": "https://localhost:8080/",
     "height": 423
    },
    "id": "TG4l1kwHY1aw",
    "outputId": "6bb8fe58-c19b-40d1-ecb7-e6eecab9803d"
   },
   "outputs": [
    {
     "data": {
      "text/html": [
       "\n",
       "  <div id=\"df-15b8711f-640a-41be-acf8-cb2c85ecf64a\">\n",
       "    <div class=\"colab-df-container\">\n",
       "      <div>\n",
       "<style scoped>\n",
       "    .dataframe tbody tr th:only-of-type {\n",
       "        vertical-align: middle;\n",
       "    }\n",
       "\n",
       "    .dataframe tbody tr th {\n",
       "        vertical-align: top;\n",
       "    }\n",
       "\n",
       "    .dataframe thead th {\n",
       "        text-align: right;\n",
       "    }\n",
       "</style>\n",
       "<table border=\"1\" class=\"dataframe\">\n",
       "  <thead>\n",
       "    <tr style=\"text-align: right;\">\n",
       "      <th></th>\n",
       "      <th>filename</th>\n",
       "      <th>Outlier Score</th>\n",
       "      <th>Is Outlier</th>\n",
       "    </tr>\n",
       "  </thead>\n",
       "  <tbody>\n",
       "    <tr>\n",
       "      <th>14</th>\n",
       "      <td>231316658.jpg</td>\n",
       "      <td>0.101615</td>\n",
       "      <td>1</td>\n",
       "    </tr>\n",
       "    <tr>\n",
       "      <th>17</th>\n",
       "      <td>175559398.jpg</td>\n",
       "      <td>0.104023</td>\n",
       "      <td>1</td>\n",
       "    </tr>\n",
       "    <tr>\n",
       "      <th>40</th>\n",
       "      <td>227896614.jpg</td>\n",
       "      <td>0.112172</td>\n",
       "      <td>1</td>\n",
       "    </tr>\n",
       "    <tr>\n",
       "      <th>61</th>\n",
       "      <td>200089107.jpg</td>\n",
       "      <td>0.127574</td>\n",
       "      <td>1</td>\n",
       "    </tr>\n",
       "    <tr>\n",
       "      <th>83</th>\n",
       "      <td>225767415.jpg</td>\n",
       "      <td>0.105515</td>\n",
       "      <td>1</td>\n",
       "    </tr>\n",
       "    <tr>\n",
       "      <th>...</th>\n",
       "      <td>...</td>\n",
       "      <td>...</td>\n",
       "      <td>...</td>\n",
       "    </tr>\n",
       "    <tr>\n",
       "      <th>1889</th>\n",
       "      <td>230148017.jpg</td>\n",
       "      <td>0.110676</td>\n",
       "      <td>1</td>\n",
       "    </tr>\n",
       "    <tr>\n",
       "      <th>1899</th>\n",
       "      <td>231941862.jpg</td>\n",
       "      <td>0.101226</td>\n",
       "      <td>1</td>\n",
       "    </tr>\n",
       "    <tr>\n",
       "      <th>1909</th>\n",
       "      <td>232125443.jpg</td>\n",
       "      <td>0.109094</td>\n",
       "      <td>1</td>\n",
       "    </tr>\n",
       "    <tr>\n",
       "      <th>2139</th>\n",
       "      <td>231656363.jpg</td>\n",
       "      <td>0.156422</td>\n",
       "      <td>1</td>\n",
       "    </tr>\n",
       "    <tr>\n",
       "      <th>2142</th>\n",
       "      <td>230449693.jpg</td>\n",
       "      <td>0.107836</td>\n",
       "      <td>1</td>\n",
       "    </tr>\n",
       "  </tbody>\n",
       "</table>\n",
       "<p>71 rows × 3 columns</p>\n",
       "</div>\n",
       "      <button class=\"colab-df-convert\" onclick=\"convertToInteractive('df-15b8711f-640a-41be-acf8-cb2c85ecf64a')\"\n",
       "              title=\"Convert this dataframe to an interactive table.\"\n",
       "              style=\"display:none;\">\n",
       "        \n",
       "  <svg xmlns=\"http://www.w3.org/2000/svg\" height=\"24px\"viewBox=\"0 0 24 24\"\n",
       "       width=\"24px\">\n",
       "    <path d=\"M0 0h24v24H0V0z\" fill=\"none\"/>\n",
       "    <path d=\"M18.56 5.44l.94 2.06.94-2.06 2.06-.94-2.06-.94-.94-2.06-.94 2.06-2.06.94zm-11 1L8.5 8.5l.94-2.06 2.06-.94-2.06-.94L8.5 2.5l-.94 2.06-2.06.94zm10 10l.94 2.06.94-2.06 2.06-.94-2.06-.94-.94-2.06-.94 2.06-2.06.94z\"/><path d=\"M17.41 7.96l-1.37-1.37c-.4-.4-.92-.59-1.43-.59-.52 0-1.04.2-1.43.59L10.3 9.45l-7.72 7.72c-.78.78-.78 2.05 0 2.83L4 21.41c.39.39.9.59 1.41.59.51 0 1.02-.2 1.41-.59l7.78-7.78 2.81-2.81c.8-.78.8-2.07 0-2.86zM5.41 20L4 18.59l7.72-7.72 1.47 1.35L5.41 20z\"/>\n",
       "  </svg>\n",
       "      </button>\n",
       "      \n",
       "  <style>\n",
       "    .colab-df-container {\n",
       "      display:flex;\n",
       "      flex-wrap:wrap;\n",
       "      gap: 12px;\n",
       "    }\n",
       "\n",
       "    .colab-df-convert {\n",
       "      background-color: #E8F0FE;\n",
       "      border: none;\n",
       "      border-radius: 50%;\n",
       "      cursor: pointer;\n",
       "      display: none;\n",
       "      fill: #1967D2;\n",
       "      height: 32px;\n",
       "      padding: 0 0 0 0;\n",
       "      width: 32px;\n",
       "    }\n",
       "\n",
       "    .colab-df-convert:hover {\n",
       "      background-color: #E2EBFA;\n",
       "      box-shadow: 0px 1px 2px rgba(60, 64, 67, 0.3), 0px 1px 3px 1px rgba(60, 64, 67, 0.15);\n",
       "      fill: #174EA6;\n",
       "    }\n",
       "\n",
       "    [theme=dark] .colab-df-convert {\n",
       "      background-color: #3B4455;\n",
       "      fill: #D2E3FC;\n",
       "    }\n",
       "\n",
       "    [theme=dark] .colab-df-convert:hover {\n",
       "      background-color: #434B5C;\n",
       "      box-shadow: 0px 1px 3px 1px rgba(0, 0, 0, 0.15);\n",
       "      filter: drop-shadow(0px 1px 2px rgba(0, 0, 0, 0.3));\n",
       "      fill: #FFFFFF;\n",
       "    }\n",
       "  </style>\n",
       "\n",
       "      <script>\n",
       "        const buttonEl =\n",
       "          document.querySelector('#df-15b8711f-640a-41be-acf8-cb2c85ecf64a button.colab-df-convert');\n",
       "        buttonEl.style.display =\n",
       "          google.colab.kernel.accessAllowed ? 'block' : 'none';\n",
       "\n",
       "        async function convertToInteractive(key) {\n",
       "          const element = document.querySelector('#df-15b8711f-640a-41be-acf8-cb2c85ecf64a');\n",
       "          const dataTable =\n",
       "            await google.colab.kernel.invokeFunction('convertToInteractive',\n",
       "                                                     [key], {});\n",
       "          if (!dataTable) return;\n",
       "\n",
       "          const docLinkHtml = 'Like what you see? Visit the ' +\n",
       "            '<a target=\"_blank\" href=https://colab.research.google.com/notebooks/data_table.ipynb>data table notebook</a>'\n",
       "            + ' to learn more about interactive tables.';\n",
       "          element.innerHTML = '';\n",
       "          dataTable['output_type'] = 'display_data';\n",
       "          await google.colab.output.renderOutput(dataTable, element);\n",
       "          const docLink = document.createElement('div');\n",
       "          docLink.innerHTML = docLinkHtml;\n",
       "          element.appendChild(docLink);\n",
       "        }\n",
       "      </script>\n",
       "    </div>\n",
       "  </div>\n",
       "  "
      ],
      "text/plain": [
       "           filename  Outlier Score Is Outlier\n",
       "14    231316658.jpg       0.101615          1\n",
       "17    175559398.jpg       0.104023          1\n",
       "40    227896614.jpg       0.112172          1\n",
       "61    200089107.jpg       0.127574          1\n",
       "83    225767415.jpg       0.105515          1\n",
       "...             ...            ...        ...\n",
       "1889  230148017.jpg       0.110676          1\n",
       "1899  231941862.jpg       0.101226          1\n",
       "1909  232125443.jpg       0.109094          1\n",
       "2139  231656363.jpg       0.156422          1\n",
       "2142  230449693.jpg       0.107836          1\n",
       "\n",
       "[71 rows x 3 columns]"
      ]
     },
     "execution_count": 10,
     "metadata": {},
     "output_type": "execute_result"
    }
   ],
   "source": [
    "results_df[results_df['Is Outlier'] == 1]"
   ]
  },
  {
   "cell_type": "markdown",
   "metadata": {
    "id": "0du1Cg5nBH0c"
   },
   "source": [
    "### Test on single image"
   ]
  },
  {
   "cell_type": "code",
   "execution_count": null,
   "metadata": {
    "colab": {
     "base_uri": "https://localhost:8080/"
    },
    "id": "r6ezkVAZnzAQ",
    "outputId": "f2bdc777-d149-42a7-e0c0-7b2be70cd038"
   },
   "outputs": [
    {
     "name": "stderr",
     "output_type": "stream",
     "text": [
      "WARNING:tensorflow:No training configuration found in the save file, so the model was *not* compiled. Compile it manually.\n",
      "WARNING:tensorflow:No training configuration found in the save file, so the model was *not* compiled. Compile it manually.\n"
     ]
    },
    {
     "name": "stdout",
     "output_type": "stream",
     "text": [
      "Outlier score: 0.16582707551797385\n",
      "Is this image an outlier (0 for NO and 1 for YES)? 1\n"
     ]
    }
   ],
   "source": [
    "from urllib.request import urlopen\n",
    "from alibi_detect.saving import save_detector, load_detector\n",
    "import pandas as pd\n",
    "import cv2\n",
    "import numpy as np\n",
    "\n",
    "# load the saved model\n",
    "od = load_detector(\"/content/drive/MyDrive/Outlier Detection/data/thresh_10/\")\n",
    "\n",
    "# load image from URL\n",
    "url = 'https://encrypted-tbn2.gstatic.com/shopping?q=tbn:ANd9GcSYVy2C1Y1KGOfBop-hGFWnzJulZ5V5ulRiflvfEDqjW7gnO-wJYYAb1ma_QTq7WQ&usqp=CAc'\n",
    "resp = urlopen(url)\n",
    "image = np.asarray(bytearray(resp.read()), dtype=\"uint8\")\n",
    "image = cv2.imdecode(image, cv2.IMREAD_COLOR)\n",
    "image = cv2.resize(image, (64, 64))\n",
    "image = image / 255.\n",
    "image = np.expand_dims(image, axis=0)\n",
    "\n",
    "predictions = od.predict(image)\n",
    "\n",
    "fscore, iscore = od.score(image, outlier_perc=5, batch_size=16)\n",
    "print(\"Outlier score:\", iscore[0])\n",
    "print(\"Is this image an outlier (0 for NO and 1 for YES)?\", int(iscore[0] >= od.threshold))"
   ]
  },
  {
   "cell_type": "code",
   "execution_count": null,
   "metadata": {
    "id": "cSRIYc3k_Bh1"
   },
   "outputs": [],
   "source": []
  }
 ],
 "metadata": {
  "accelerator": "GPU",
  "colab": {
   "provenance": []
  },
  "gpuClass": "standard",
  "kernelspec": {
   "display_name": "Python 3 (ipykernel)",
   "language": "python",
   "name": "python3"
  },
  "language_info": {
   "codemirror_mode": {
    "name": "ipython",
    "version": 3
   },
   "file_extension": ".py",
   "mimetype": "text/x-python",
   "name": "python",
   "nbconvert_exporter": "python",
   "pygments_lexer": "ipython3",
   "version": "3.9.13"
  }
 },
 "nbformat": 4,
 "nbformat_minor": 1
}
